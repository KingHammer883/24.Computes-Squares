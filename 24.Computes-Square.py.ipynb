{
 "cells": [
  {
   "cell_type": "code",
   "execution_count": 1,
   "metadata": {
    "ExecuteTime": {
     "end_time": "2019-01-26T01:53:48.723829Z",
     "start_time": "2019-01-26T01:53:43.644939Z"
    }
   },
   "outputs": [
    {
     "name": "stdout",
     "output_type": "stream",
     "text": [
      "Enter a number: 50\n",
      "The square of 50.0 is 2500.0\n"
     ]
    }
   ],
   "source": [
    "# -*- coding: utf-8 -*-\n",
    "\"\"\"\n",
    "Created on Fri Jan 25, 2019\n",
    "\n",
    "File: Computes-Square.py\n",
    "Illustrates the definition of a main function\n",
    "\n",
    "@author: Byen23\n",
    "\"\"\"\n",
    "\n",
    "def main():\n",
    "\t\"\"\"The main function for this script.\"\"\"\n",
    "\tnumber = float(input(\"Enter a number: \"))\n",
    "\tresult = square(number)\n",
    "\tprint(\"The square of\", number, \"is\", result)\n",
    "\t\n",
    "def square(x):\n",
    "\t\"\"\"Returns the square of x.\"\"\"\n",
    "\treturn x * x\n",
    "\n",
    "# The entry point for program executive\n",
    "if __name__ == \"__main__\":\n",
    "\tmain()"
   ]
  }
 ],
 "metadata": {
  "kernelspec": {
   "display_name": "Python 3",
   "language": "python",
   "name": "python3"
  },
  "language_info": {
   "codemirror_mode": {
    "name": "ipython",
    "version": 3
   },
   "file_extension": ".py",
   "mimetype": "text/x-python",
   "name": "python",
   "nbconvert_exporter": "python",
   "pygments_lexer": "ipython3",
   "version": "3.6.8"
  }
 },
 "nbformat": 4,
 "nbformat_minor": 2
}
